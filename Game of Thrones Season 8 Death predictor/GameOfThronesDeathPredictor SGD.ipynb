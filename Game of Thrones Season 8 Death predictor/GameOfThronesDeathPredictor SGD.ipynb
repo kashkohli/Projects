{
 "cells": [
  {
   "cell_type": "code",
   "execution_count": 2,
   "metadata": {},
   "outputs": [
    {
     "name": "stderr",
     "output_type": "stream",
     "text": [
      "Using TensorFlow backend.\n"
     ]
    }
   ],
   "source": [
    "import pandas as pd\n",
    "import numpy as np\n",
    "from sklearn.model_selection import train_test_split\n",
    "from sklearn.preprocessing import StandardScaler\n",
    "import keras\n",
    "from keras.models import Sequential\n",
    "from keras.layers import Dense\n",
    "from sklearn.metrics import confusion_matrix,accuracy_score\n",
    "from keras.optimizers import SGD"
   ]
  },
  {
   "cell_type": "code",
   "execution_count": 3,
   "metadata": {},
   "outputs": [],
   "source": [
    "dataframeX = pd.read_csv('character-predictions.csv', usecols= [7, 16, 17, 18, 19, 20, 25, 26, 28, 29, 30, 31])\n",
    "dataframeY = pd.read_csv('character-predictions.csv', usecols=[32])"
   ]
  },
  {
   "cell_type": "code",
   "execution_count": 4,
   "metadata": {},
   "outputs": [
    {
     "name": "stdout",
     "output_type": "stream",
     "text": [
      "   male  book1  book2  book3  book4  book5  isMarried  isNoble  \\\n",
      "0     1      0      0      0      0      0          0        0   \n",
      "1     1      1      1      1      1      1          1        1   \n",
      "2     1      0      0      0      1      0          0        1   \n",
      "3     0      0      0      0      0      0          1        1   \n",
      "4     0      0      0      0      1      0          1        1   \n",
      "\n",
      "   numDeadRelations  boolDeadRelations  isPopular  popularity  \n",
      "0                11                  1          1    0.605351  \n",
      "1                 1                  1          1    0.896321  \n",
      "2                 0                  0          0    0.267559  \n",
      "3                 0                  0          0    0.183946  \n",
      "4                 0                  0          0    0.043478  \n",
      "   isAlive\n",
      "0        0\n",
      "1        1\n",
      "2        1\n",
      "3        0\n",
      "4        1\n"
     ]
    }
   ],
   "source": [
    "print(dataframeX.head(5))\n",
    "print(dataframeY.head(5))"
   ]
  },
  {
   "cell_type": "code",
   "execution_count": 5,
   "metadata": {},
   "outputs": [],
   "source": [
    "X_train, X_test, Y_train, Y_test = train_test_split(dataframeX.values, dataframeY.values, test_size = 0.2)"
   ]
  },
  {
   "cell_type": "code",
   "execution_count": 6,
   "metadata": {},
   "outputs": [
    {
     "name": "stdout",
     "output_type": "stream",
     "text": [
      "(array([[1.        , 0.        , 0.        , ..., 0.        , 0.        ,\n",
      "        0.00334448],\n",
      "       [0.        , 0.        , 0.        , ..., 0.        , 0.        ,\n",
      "        0.01672241],\n",
      "       [1.        , 0.        , 0.        , ..., 0.        , 0.        ,\n",
      "        0.02006689],\n",
      "       ...,\n",
      "       [1.        , 0.        , 0.        , ..., 0.        , 0.        ,\n",
      "        0.01337793],\n",
      "       [1.        , 1.        , 1.        , ..., 0.        , 0.        ,\n",
      "        0.2909699 ],\n",
      "       [1.        , 1.        , 0.        , ..., 0.        , 0.        ,\n",
      "        0.16053512]]), array([[1.        , 0.        , 1.        , ..., 0.        , 0.        ,\n",
      "        0.02675585],\n",
      "       [1.        , 0.        , 1.        , ..., 0.        , 0.        ,\n",
      "        0.0735786 ],\n",
      "       [1.        , 1.        , 1.        , ..., 0.        , 0.        ,\n",
      "        0.1638796 ],\n",
      "       ...,\n",
      "       [1.        , 1.        , 1.        , ..., 0.        , 0.        ,\n",
      "        0.1638796 ],\n",
      "       [1.        , 0.        , 0.        , ..., 0.        , 0.        ,\n",
      "        0.29765886],\n",
      "       [0.        , 0.        , 1.        , ..., 0.        , 0.        ,\n",
      "        0.10702341]]))\n"
     ]
    }
   ],
   "source": [
    "print(X_train,X_test)"
   ]
  },
  {
   "cell_type": "code",
   "execution_count": 7,
   "metadata": {},
   "outputs": [],
   "source": [
    "sc = StandardScaler()\n",
    "X_train = sc.fit_transform(X_train)\n",
    "X_test = sc.transform(X_test)"
   ]
  },
  {
   "cell_type": "code",
   "execution_count": 8,
   "metadata": {},
   "outputs": [
    {
     "name": "stdout",
     "output_type": "stream",
     "text": [
      "(array([[ 0.78792978, -0.49979916, -0.75716997, ..., -0.29038002,\n",
      "        -0.26207121, -0.53305635],\n",
      "       [-1.26914863, -0.49979916, -0.75716997, ..., -0.29038002,\n",
      "        -0.26207121, -0.452315  ],\n",
      "       [ 0.78792978, -0.49979916, -0.75716997, ..., -0.29038002,\n",
      "        -0.26207121, -0.43212966],\n",
      "       ...,\n",
      "       [ 0.78792978, -0.49979916, -0.75716997, ..., -0.29038002,\n",
      "        -0.26207121, -0.47250034],\n",
      "       [ 0.78792978,  2.0008037 ,  1.32070742, ..., -0.29038002,\n",
      "        -0.26207121,  1.20288262],\n",
      "       [ 0.78792978,  2.0008037 , -0.75716997, ..., -0.29038002,\n",
      "        -0.26207121,  0.41565449]]), array([[ 0.78792978, -0.49979916,  1.32070742, ..., -0.29038002,\n",
      "        -0.26207121, -0.39175899],\n",
      "       [ 0.78792978, -0.49979916,  1.32070742, ..., -0.29038002,\n",
      "        -0.26207121, -0.10916427],\n",
      "       [ 0.78792978,  2.0008037 ,  1.32070742, ..., -0.29038002,\n",
      "        -0.26207121,  0.43583982],\n",
      "       ...,\n",
      "       [ 0.78792978,  2.0008037 ,  1.32070742, ..., -0.29038002,\n",
      "        -0.26207121,  0.43583982],\n",
      "       [ 0.78792978, -0.49979916, -0.75716997, ..., -0.29038002,\n",
      "        -0.26207121,  1.2432533 ],\n",
      "       [-1.26914863, -0.49979916,  1.32070742, ..., -0.29038002,\n",
      "        -0.26207121,  0.0926891 ]]))\n"
     ]
    }
   ],
   "source": [
    "print(X_train,X_test)"
   ]
  },
  {
   "cell_type": "code",
   "execution_count": 9,
   "metadata": {},
   "outputs": [],
   "source": [
    "model = Sequential()"
   ]
  },
  {
   "cell_type": "code",
   "execution_count": 10,
   "metadata": {},
   "outputs": [],
   "source": [
    "model.add(Dense(15, input_dim=12, activation='relu'))"
   ]
  },
  {
   "cell_type": "code",
   "execution_count": 11,
   "metadata": {},
   "outputs": [],
   "source": [
    "model.add(Dense(15, activation='relu'))"
   ]
  },
  {
   "cell_type": "code",
   "execution_count": 12,
   "metadata": {},
   "outputs": [],
   "source": [
    "model.add(Dense(50, activation='relu'))"
   ]
  },
  {
   "cell_type": "code",
   "execution_count": 13,
   "metadata": {},
   "outputs": [],
   "source": [
    "model.add(Dense(50, activation='relu'))"
   ]
  },
  {
   "cell_type": "code",
   "execution_count": 14,
   "metadata": {},
   "outputs": [],
   "source": [
    "model.add(Dense(15, activation='relu'))"
   ]
  },
  {
   "cell_type": "code",
   "execution_count": 15,
   "metadata": {},
   "outputs": [],
   "source": [
    "model.add(Dense(1, activation='sigmoid'))"
   ]
  },
  {
   "cell_type": "code",
   "execution_count": 16,
   "metadata": {},
   "outputs": [
    {
     "name": "stdout",
     "output_type": "stream",
     "text": [
      "_________________________________________________________________\n",
      "Layer (type)                 Output Shape              Param #   \n",
      "=================================================================\n",
      "dense_1 (Dense)              (None, 15)                195       \n",
      "_________________________________________________________________\n",
      "dense_2 (Dense)              (None, 15)                240       \n",
      "_________________________________________________________________\n",
      "dense_3 (Dense)              (None, 50)                800       \n",
      "_________________________________________________________________\n",
      "dense_4 (Dense)              (None, 50)                2550      \n",
      "_________________________________________________________________\n",
      "dense_5 (Dense)              (None, 15)                765       \n",
      "_________________________________________________________________\n",
      "dense_6 (Dense)              (None, 1)                 16        \n",
      "=================================================================\n",
      "Total params: 4,566\n",
      "Trainable params: 4,566\n",
      "Non-trainable params: 0\n",
      "_________________________________________________________________\n"
     ]
    }
   ],
   "source": [
    "model.summary()"
   ]
  },
  {
   "cell_type": "code",
   "execution_count": null,
   "metadata": {},
   "outputs": [],
   "source": []
  },
  {
   "cell_type": "code",
   "execution_count": 40,
   "metadata": {},
   "outputs": [
    {
     "name": "stdout",
     "output_type": "stream",
     "text": [
      "\n",
      "\n",
      "Testing model with learning rate: 0.000510\n",
      "\n",
      "Epoch 1/50\n",
      "1556/1556 [==============================] - 1s 334us/step - loss: 0.2706 - acc: 0.8753\n",
      "Epoch 2/50\n",
      "1556/1556 [==============================] - 0s 30us/step - loss: 0.2706 - acc: 0.8753\n",
      "Epoch 3/50\n",
      "1556/1556 [==============================] - 0s 31us/step - loss: 0.2706 - acc: 0.8753\n",
      "Epoch 4/50\n",
      "1556/1556 [==============================] - 0s 27us/step - loss: 0.2706 - acc: 0.8753\n",
      "Epoch 5/50\n",
      "1556/1556 [==============================] - 0s 32us/step - loss: 0.2706 - acc: 0.8753\n",
      "Epoch 6/50\n",
      "1556/1556 [==============================] - 0s 33us/step - loss: 0.2705 - acc: 0.8753\n",
      "Epoch 7/50\n",
      "1556/1556 [==============================] - 0s 29us/step - loss: 0.2705 - acc: 0.8753\n",
      "Epoch 8/50\n",
      "1556/1556 [==============================] - 0s 30us/step - loss: 0.2705 - acc: 0.8753\n",
      "Epoch 9/50\n",
      "1556/1556 [==============================] - 0s 25us/step - loss: 0.2705 - acc: 0.8753\n",
      "Epoch 10/50\n",
      "1556/1556 [==============================] - 0s 30us/step - loss: 0.2705 - acc: 0.8753\n",
      "Epoch 11/50\n",
      "1556/1556 [==============================] - 0s 30us/step - loss: 0.2705 - acc: 0.8753\n",
      "Epoch 12/50\n",
      "1556/1556 [==============================] - 0s 33us/step - loss: 0.2705 - acc: 0.8753\n",
      "Epoch 13/50\n",
      "1556/1556 [==============================] - 0s 29us/step - loss: 0.2705 - acc: 0.8753\n",
      "Epoch 14/50\n",
      "1556/1556 [==============================] - 0s 26us/step - loss: 0.2705 - acc: 0.8753\n",
      "Epoch 15/50\n",
      "1556/1556 [==============================] - 0s 26us/step - loss: 0.2705 - acc: 0.8753\n",
      "Epoch 16/50\n",
      "1556/1556 [==============================] - 0s 32us/step - loss: 0.2705 - acc: 0.8753\n",
      "Epoch 17/50\n",
      "1556/1556 [==============================] - 0s 28us/step - loss: 0.2705 - acc: 0.8753\n",
      "Epoch 18/50\n",
      "1556/1556 [==============================] - 0s 32us/step - loss: 0.2705 - acc: 0.8753\n",
      "Epoch 19/50\n",
      "1556/1556 [==============================] - 0s 36us/step - loss: 0.2704 - acc: 0.8753\n",
      "Epoch 20/50\n",
      "1556/1556 [==============================] - 0s 31us/step - loss: 0.2704 - acc: 0.8753\n",
      "Epoch 21/50\n",
      "1556/1556 [==============================] - 0s 31us/step - loss: 0.2704 - acc: 0.8753\n",
      "Epoch 22/50\n",
      "1556/1556 [==============================] - 0s 31us/step - loss: 0.2704 - acc: 0.8753\n",
      "Epoch 23/50\n",
      "1556/1556 [==============================] - 0s 34us/step - loss: 0.2704 - acc: 0.8747\n",
      "Epoch 24/50\n",
      "1556/1556 [==============================] - 0s 28us/step - loss: 0.2704 - acc: 0.8753\n",
      "Epoch 25/50\n",
      "1556/1556 [==============================] - 0s 31us/step - loss: 0.2704 - acc: 0.8753\n",
      "Epoch 26/50\n",
      "1556/1556 [==============================] - 0s 32us/step - loss: 0.2704 - acc: 0.8747\n",
      "Epoch 27/50\n",
      "1556/1556 [==============================] - 0s 31us/step - loss: 0.2704 - acc: 0.8753\n",
      "Epoch 28/50\n",
      "1556/1556 [==============================] - 0s 33us/step - loss: 0.2704 - acc: 0.8753\n",
      "Epoch 29/50\n",
      "1556/1556 [==============================] - 0s 33us/step - loss: 0.2704 - acc: 0.8753\n",
      "Epoch 30/50\n",
      "1556/1556 [==============================] - 0s 28us/step - loss: 0.2704 - acc: 0.8753\n",
      "Epoch 31/50\n",
      "1556/1556 [==============================] - 0s 33us/step - loss: 0.2704 - acc: 0.8753\n",
      "Epoch 32/50\n",
      "1556/1556 [==============================] - 0s 33us/step - loss: 0.2704 - acc: 0.8753\n",
      "Epoch 33/50\n",
      "1556/1556 [==============================] - 0s 27us/step - loss: 0.2704 - acc: 0.8753\n",
      "Epoch 34/50\n",
      "1556/1556 [==============================] - 0s 29us/step - loss: 0.2704 - acc: 0.8747\n",
      "Epoch 35/50\n",
      "1556/1556 [==============================] - 0s 29us/step - loss: 0.2704 - acc: 0.8747\n",
      "Epoch 36/50\n",
      "1556/1556 [==============================] - 0s 29us/step - loss: 0.2704 - acc: 0.8753\n",
      "Epoch 37/50\n",
      "1556/1556 [==============================] - 0s 29us/step - loss: 0.2704 - acc: 0.8747\n",
      "Epoch 38/50\n",
      "1556/1556 [==============================] - 0s 32us/step - loss: 0.2703 - acc: 0.8753\n",
      "Epoch 39/50\n",
      "1556/1556 [==============================] - 0s 27us/step - loss: 0.2703 - acc: 0.8753\n",
      "Epoch 40/50\n",
      "1556/1556 [==============================] - 0s 31us/step - loss: 0.2703 - acc: 0.8753\n",
      "Epoch 41/50\n",
      "1556/1556 [==============================] - 0s 31us/step - loss: 0.2703 - acc: 0.8753\n",
      "Epoch 42/50\n",
      "1556/1556 [==============================] - 0s 34us/step - loss: 0.2703 - acc: 0.8753\n",
      "Epoch 43/50\n",
      "1556/1556 [==============================] - 0s 32us/step - loss: 0.2703 - acc: 0.8753\n",
      "Epoch 44/50\n",
      "1556/1556 [==============================] - 0s 28us/step - loss: 0.2703 - acc: 0.8747\n",
      "Epoch 45/50\n",
      "1556/1556 [==============================] - 0s 31us/step - loss: 0.2703 - acc: 0.8753\n",
      "Epoch 46/50\n",
      "1556/1556 [==============================] - 0s 32us/step - loss: 0.2703 - acc: 0.8753\n",
      "Epoch 47/50\n",
      "1556/1556 [==============================] - 0s 33us/step - loss: 0.2703 - acc: 0.8753\n",
      "Epoch 48/50\n",
      "1556/1556 [==============================] - 0s 27us/step - loss: 0.2703 - acc: 0.8747\n",
      "Epoch 49/50\n",
      "1556/1556 [==============================] - 0s 32us/step - loss: 0.2703 - acc: 0.8753\n",
      "Epoch 50/50\n",
      "1556/1556 [==============================] - 0s 33us/step - loss: 0.2703 - acc: 0.8753\n",
      "\n",
      "Accuracy Score: 78.21%\n",
      "==============================================================\n"
     ]
    }
   ],
   "source": [
    "lr_to_test = [0.00051]\n",
    "for lr in lr_to_test:\n",
    "    print('\\n\\nTesting model with learning rate: %f\\n'%lr )\n",
    "    my_optimizer = SGD(lr = lr)\n",
    "    model.compile(optimizer = my_optimizer, loss='binary_crossentropy',metrics=['accuracy'])\n",
    "    model.fit(X_train, Y_train, epochs=50, batch_size=50, verbose=1)\n",
    "    Y_pred = model.predict(X_test)\n",
    "    Y_pred = (Y_pred > 0.5)\n",
    "    acs = accuracy_score(Y_test, Y_pred)\n",
    "    print(\"\\nAccuracy Score: %.2f%%\" % (acs * 100))\n",
    "    print('==============================================================')"
   ]
  },
  {
   "cell_type": "code",
   "execution_count": 41,
   "metadata": {},
   "outputs": [
    {
     "name": "stdout",
     "output_type": "stream",
     "text": [
      "\n",
      "Accuracy Score: 78.21%\n"
     ]
    }
   ],
   "source": [
    "print(\"\\nAccuracy Score: %.2f%%\" % (acs * 100))"
   ]
  },
  {
   "cell_type": "code",
   "execution_count": null,
   "metadata": {},
   "outputs": [],
   "source": []
  },
  {
   "cell_type": "code",
   "execution_count": null,
   "metadata": {},
   "outputs": [],
   "source": []
  },
  {
   "cell_type": "code",
   "execution_count": null,
   "metadata": {},
   "outputs": [],
   "source": []
  },
  {
   "cell_type": "code",
   "execution_count": null,
   "metadata": {},
   "outputs": [],
   "source": []
  },
  {
   "cell_type": "code",
   "execution_count": null,
   "metadata": {},
   "outputs": [],
   "source": []
  },
  {
   "cell_type": "code",
   "execution_count": null,
   "metadata": {},
   "outputs": [],
   "source": []
  },
  {
   "cell_type": "code",
   "execution_count": null,
   "metadata": {},
   "outputs": [],
   "source": []
  },
  {
   "cell_type": "code",
   "execution_count": null,
   "metadata": {},
   "outputs": [],
   "source": []
  },
  {
   "cell_type": "code",
   "execution_count": 44,
   "metadata": {},
   "outputs": [],
   "source": [
    "def predictor(names):\n",
    "    df = pd.read_csv('character-predictions.csv', usecols= [5,7, 16, 17, 18, 19, 20, 25, 26, 28, 29, 30, 31])\n",
    "    sur=[]\n",
    "    dead=[]\n",
    "    for name in names:\n",
    "        parameters = df.loc[df['name'] == name]\n",
    "        parameters.drop(parameters.columns[0], axis=1, inplace=True)\n",
    "        inputFeature = np.asarray(parameters).reshape(1, 12)\n",
    "        raw_prediction = model.predict(inputFeature)[0][0]\n",
    "        if raw_prediction > 0.5:\n",
    "            sur.append(name)\n",
    "        else:\n",
    "            dead.append(name)\n",
    "            \n",
    "    print('Survivors :')\n",
    "    print(sur)\n",
    "    print('')\n",
    "    print('Dead :')\n",
    "    print(dead)\n",
    "    print('')"
   ]
  },
  {
   "cell_type": "code",
   "execution_count": 45,
   "metadata": {},
   "outputs": [
    {
     "name": "stdout",
     "output_type": "stream",
     "text": [
      "\t\t\t\tSurviving Lannisters\n",
      "Survivors :\n",
      "[]\n",
      "\n",
      "Dead :\n",
      "['Tyrion Lannister', 'Jaime Lannister', 'Cersei Lannister']\n",
      "\n",
      "===========================================\n",
      "\t\t\t\tSurviving Starks\n",
      "Survivors :\n",
      "[]\n",
      "\n",
      "Dead :\n",
      "['Arya Stark', 'Sansa Stark', 'Brandon Stark']\n",
      "\n",
      "===========================================\n",
      "\t\t\t\tSurviving Targaryens\n",
      "Survivors :\n",
      "[]\n",
      "\n",
      "Dead :\n",
      "['Daenerys Targaryen', 'Jon Snow']\n",
      "\n",
      "===========================================\n",
      "\t\t\t\tOther Survivers\n",
      "Survivors :\n",
      "['Daario Naharis', 'Jorah Mormont', 'Missandei', 'Grey Worm', 'Gilly', 'Asha Greyjoy', 'Gendry']\n",
      "\n",
      "Dead :\n",
      "['Samwell Tarly', 'Melisandre', 'Theon Greyjoy', 'Varys', 'Sandor Clegane']\n",
      "\n",
      "===========================================\n"
     ]
    }
   ],
   "source": [
    "df = pd.read_csv('character-predictions.csv', usecols= [5,7, 16, 17, 18, 19, 20, 25, 26, 28, 29, 30, 31])\n",
    "\n",
    "Lannisters=['Tyrion Lannister','Jaime Lannister','Cersei Lannister']\n",
    "print('\\t\\t\\t\\tSurviving Lannisters')\n",
    "predictor(Lannisters)\n",
    "print('===========================================')\n",
    "Starks=['Arya Stark','Sansa Stark','Brandon Stark']\n",
    "print('\\t\\t\\t\\tSurviving Starks')\n",
    "predictor(Starks)\n",
    "print('===========================================')\n",
    "Targaryens=['Daenerys Targaryen','Jon Snow']\n",
    "print('\\t\\t\\t\\tSurviving Targaryens')\n",
    "predictor(Targaryens)\n",
    "print('===========================================')\n",
    "Misc=['Samwell Tarly','Daario Naharis','Jorah Mormont','Missandei','Grey Worm','Gilly','Melisandre',\\\n",
    "      'Asha Greyjoy','Theon Greyjoy','Gendry','Varys','Sandor Clegane']\n",
    "print('\\t\\t\\t\\tOther Survivers')\n",
    "predictor(Misc)\n",
    "print('===========================================')"
   ]
  },
  {
   "cell_type": "code",
   "execution_count": 352,
   "metadata": {},
   "outputs": [],
   "source": []
  },
  {
   "cell_type": "code",
   "execution_count": null,
   "metadata": {},
   "outputs": [],
   "source": []
  }
 ],
 "metadata": {
  "kernelspec": {
   "display_name": "Python 2",
   "language": "python",
   "name": "python2"
  },
  "language_info": {
   "codemirror_mode": {
    "name": "ipython",
    "version": 2
   },
   "file_extension": ".py",
   "mimetype": "text/x-python",
   "name": "python",
   "nbconvert_exporter": "python",
   "pygments_lexer": "ipython2",
   "version": "2.7.15rc1"
  }
 },
 "nbformat": 4,
 "nbformat_minor": 2
}
